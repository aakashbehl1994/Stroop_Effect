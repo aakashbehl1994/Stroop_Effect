{
 "cells": [
  {
   "cell_type": "markdown",
   "metadata": {},
   "source": [
    "### Analyzing the Stroop Effect\n",
    "Perform the analysis in the space below. Remember to follow [the instructions](https://docs.google.com/document/d/1-OkpZLjG_kX9J6LIQ5IltsqMzVWjh36QpnP2RYpVdPU/pub?embedded=True) and review the [project rubric](https://review.udacity.com/#!/rubrics/71/view) before submitting. Once you've completed the analysis and write up, download this file as a PDF or HTML file and submit in the next section.\n",
    "\n",
    "\n",
    "(1) What is the independent variable? What is the dependent variable?"
   ]
  },
  {
   "cell_type": "markdown",
   "metadata": {},
   "source": [
    "The independent variable is the congruent word condition(color matches the word) or the incongruent word condition(color does not matches the word).\n",
    "The dependent variable is the time it takes to name the ink colors in equally-sized lists."
   ]
  },
  {
   "cell_type": "markdown",
   "metadata": {},
   "source": [
    "(2) What is an appropriate set of hypotheses for this task? What kind of statistical test do you expect to perform? Justify your choices."
   ]
  },
  {
   "cell_type": "markdown",
   "metadata": {},
   "source": [
    "The appropriate hypothesis for this task is-\n",
    "<br>\n",
    "Null Hypothesis($H_{o}$) - There is no significant difference between the means of the scores of the population in congruent test and incongruent test.\n",
    "<br>\n",
    "                 i.e. μi = μc (μi - population mean of incongruent values, μc - population mean of congruent values)\n",
    "<br>\n",
    "Alternate Hypothesis($H_{a}$) - There is a significant differnce between the means of the two scores of the population in congruent test and incongruent test. \n",
    "<br>\n",
    "                 i.e.  μi != μc (μi - population mean of incongruent values, μc - population mean of congruent values)\n",
    "<br>\n",
    "<br>\n",
    "**Test**\n",
    "<br>\n",
    "Paired 2 tailed t-test per participant with a alplha level of 5%, this test shows if there is a significant difference between the mean of incongruent words and congrunet words for the population.\n",
    "<br>\n",
    "<br>\n",
    "**Assumptions**\n",
    "<br>\n",
    " I will be using a t-test instead of a z-test because \n",
    " <br>\n",
    " 1) The population standard deviation is unknown.\n",
    " <br>\n",
    " 2) The sample set is less than 30.\n",
    " <br>\n",
    " <br>\n",
    " A paired t-test or dependent sample test, will be used as the data set is of one group of participants tested twice under different conditions."
   ]
  },
  {
   "cell_type": "markdown",
   "metadata": {},
   "source": [
    "(3) Report some descriptive statistics regarding this dataset. Include at least one measure of central tendency and at least one measure of variability. The name of the data file is 'stroopdata.csv'."
   ]
  },
  {
   "cell_type": "code",
   "execution_count": 1,
   "metadata": {},
   "outputs": [],
   "source": [
    "import pandas as pd\n",
    "import statistics as st\n",
    "import scipy.stats as stats\n",
    "file = pd.read_csv('stroopdata.csv')\n",
    "mean_c = file['Congruent'].mean()\n",
    "mean_i = file['Incongruent'].mean()\n"
   ]
  },
  {
   "cell_type": "code",
   "execution_count": 2,
   "metadata": {},
   "outputs": [],
   "source": [
    "s_c = st.stdev(file['Congruent'])\n",
    "s_i = st.stdev(file['Incongruent'])"
   ]
  },
  {
   "cell_type": "code",
   "execution_count": 3,
   "metadata": {},
   "outputs": [
    {
     "name": "stdout",
     "output_type": "stream",
     "text": [
      "The mean of the Congruent group is 14.051125\n",
      "The mean of the Incongruent group is 22.0159166667\n",
      "The standard deviation of congruent group is 3.5593579576451955\n",
      "The standard deviation of Incongruent group is 4.7970571224691385\n"
     ]
    }
   ],
   "source": [
    "print('The mean of the Congruent group is', mean_c)\n",
    "print('The mean of the Incongruent group is', mean_i)\n",
    "print('The standard deviation of congruent group is',s_c)\n",
    "print('The standard deviation of Incongruent group is',s_i)\n"
   ]
  },
  {
   "cell_type": "markdown",
   "metadata": {},
   "source": [
    "(4) Provide one or two visualizations that show the distribution of the sample data. Write one or two sentences noting what you observe about the plot or plots."
   ]
  },
  {
   "cell_type": "code",
   "execution_count": 4,
   "metadata": {},
   "outputs": [
    {
     "data": {
      "text/plain": [
       "<matplotlib.figure.Figure at 0x7f100b7902e8>"
      ]
     },
     "metadata": {},
     "output_type": "display_data"
    }
   ],
   "source": [
    "import matplotlib.pyplot as plt\n",
    "plt.hist(file['Congruent'], bins='auto')\n",
    "plt.title(\"Frequency of Congruent Scores\")\n",
    "plt.xlabel('Scores')\n",
    "plt.ylabel('Frequency')\n",
    "plt.show()\n"
   ]
  },
  {
   "cell_type": "code",
   "execution_count": 5,
   "metadata": {},
   "outputs": [
    {
     "data": {
      "image/png": "[encoded data removed]",
      "text/plain": [
       "<matplotlib.figure.Figure at 0x7f100d40c3c8>"
      ]
     },
     "metadata": {},
     "output_type": "display_data"
    }
   ],
   "source": [
    "plt.hist(file['Incongruent'],bins='auto')\n",
    "plt.title(\"Frequency of Incongruent Scores\")\n",
    "plt.xlabel('Scores')\n",
    "plt.ylabel('Frequency')\n",
    "plt.show()"
   ]
  },
  {
   "cell_type": "markdown",
   "metadata": {},
   "source": [
    "In both the cases the shape of the histogram is positively skewed and with a mode of around 11-15 in case of congruent scores and 19-22 in case of Incongruent scores."
   ]
  },
  {
   "cell_type": "markdown",
   "metadata": {},
   "source": [
    "(5) Now, perform the statistical test and report the results. What is the confidence level and your critical statistic value? Do you reject the null hypothesis or fail to reject it? Come to a conclusion in terms of the experiment task. Did the results match up with your expectations?"
   ]
  },
  {
   "cell_type": "code",
   "execution_count": 7,
   "metadata": {},
   "outputs": [
    {
     "data": {
      "text/plain": [
       "Ttest_relResult(statistic=-8.020706944109957, pvalue=4.1030005857111781e-08)"
      ]
     },
     "execution_count": 7,
     "metadata": {},
     "output_type": "execute_result"
    }
   ],
   "source": [
    "stats.ttest_rel(file['Congruent'],file['Incongruent'])"
   ]
  },
  {
   "cell_type": "markdown",
   "metadata": {},
   "source": [
    "For a confidence of level of 95% this value is extremely unlikely with a p-value of less than .0000001.   \n",
    "Therefore we REJECT the Null Hypothesis that there is no significant difference between the scores of the congruent test and incongruent test for the population. It clearly shows that there is a significant difference between the two scores of the population, so we can conclude that yes incongruent test will result in more time taken. "
   ]
  },
  {
   "cell_type": "markdown",
   "metadata": {},
   "source": [
    "(6) Digging deeper and extending the investigation "
   ]
  },
  {
   "cell_type": "markdown",
   "metadata": {},
   "source": [
    "**Neuroanatomy**  (Wikipedia Article)\n",
    "<br>\n",
    "Brain imaging techniques including magnetic resonance imaging (MRI), functional magnetic resonance imaging (fMRI), and positron emission tomography (PET) have shown that there are two main areas in the brain that are involved in the processing of the Stroop task. They are the anterior cingulate cortex, and the dorsolateral prefrontal cortex. More specifically, while both are activated when resolving conflicts and catching errors, the dorsolateral prefrontal cortex assists in memory and other executive functions, while the anterior cingulate cortex is used to select an appropriate response and allocate attentional resources.\n",
    "\n",
    "The posterior dorsolateral prefrontal cortex creates the appropriate rules for the brain to accomplish the current goal. For the Stroop effect, this involves activating the areas of the brain involved in color perception, but not those involved in word encoding. It counteracts biases and irrelevant information, for instance, the fact that the semantic perception of the word is more striking than the color in which it is printed. Next, the mid-dorsolateral prefrontal cortex selects the representation that will fulfil the goal. The relevant information must be separated from irrelevant information in the task; thus, the focus is placed on the ink color and not the word. Furthermore, research has suggested that left dorsolateral prefrontal cortex activation during a Stroop task is related to an individual's’ expectation regarding the conflicting nature of the upcoming trial, and not so much on the conflict itself. Conversely, the right dorsolateral prefrontal cortex aims to reduce the attentional conflict and is activated after the conflict is over.\n",
    "\n",
    "Moreoever, the posterior dorsal anterior cingulate cortex is responsible for what decision is made (i.e. whether you will say the incorrect answer i.e. written word or the correct answer, ink color. Following the response, the anterior dorsal anterior cingulate cortex is involved in response evaluation—deciding whether the answer is correct or incorrect. Activity in this region increases when the probability of an error is higher.\n"
   ]
  },
  {
   "cell_type": "markdown",
   "metadata": {},
   "source": [
    "MythBusters used the Stroop effect test to see if males and females are cognitively impaired by having an attractive person of the opposite sex in the room. The \"myth\", i.e. hypothesis, was \"busted\" ,i.e., disproved.\n",
    "\n"
   ]
  },
  {
   "cell_type": "markdown",
   "metadata": {},
   "source": [
    "Resources\n",
    "1. Wikipedia.org"
   ]
  },
  {
   "cell_type": "markdown",
   "metadata": {},
   "source": []
  }
 ],
 "metadata": {
  "kernelspec": {
   "display_name": "Python 3",
   "language": "python",
   "name": "python3"
  },
  "language_info": {
   "codemirror_mode": {
    "name": "ipython",
    "version": 3
   },
   "file_extension": ".py",
   "mimetype": "text/x-python",
   "name": "python",
   "nbconvert_exporter": "python",
   "pygments_lexer": "ipython3",
   "version": "3.6.3"
  }
 },
 "nbformat": 4,
 "nbformat_minor": 2
}
